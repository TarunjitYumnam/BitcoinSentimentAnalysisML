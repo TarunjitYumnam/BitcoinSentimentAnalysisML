{
  "nbformat": 4,
  "nbformat_minor": 0,
  "metadata": {
    "colab": {
      "provenance": [],
      "include_colab_link": true
    },
    "kernelspec": {
      "name": "python3",
      "display_name": "Python 3"
    },
    "language_info": {
      "name": "python"
    }
  },
  "cells": [
    {
      "cell_type": "markdown",
      "metadata": {
        "id": "view-in-github",
        "colab_type": "text"
      },
      "source": [
        "<a href=\"https://colab.research.google.com/github/TarunjitYumnam/BitcoinSentimentAnalysisML/blob/main/tensorflow_pytorch_AI_2024.ipynb\" target=\"_parent\"><img src=\"https://colab.research.google.com/assets/colab-badge.svg\" alt=\"Open In Colab\"/></a>"
      ]
    },
    {
      "cell_type": "code",
      "source": [
        "import tensorflow as tf"
      ],
      "metadata": {
        "id": "55pV31VSnOIs"
      },
      "execution_count": 1,
      "outputs": []
    },
    {
      "cell_type": "markdown",
      "source": [
        "# Constant Data Structure is use for tf"
      ],
      "metadata": {
        "id": "GWbIQiICWgpO"
      }
    },
    {
      "cell_type": "code",
      "source": [
        "array1 = tf.constant([2,4,6])\n",
        "array2 = tf.constant([1,3,5])\n",
        "sum = tf.add(array1,array2)\n",
        "print(f\"{sum} is the result of Addition of two array: \")"
      ],
      "metadata": {
        "colab": {
          "base_uri": "https://localhost:8080/"
        },
        "id": "H6Le71h3KV3p",
        "outputId": "4205b402-0522-447b-b5c3-390d989ac648"
      },
      "execution_count": 2,
      "outputs": [
        {
          "output_type": "stream",
          "name": "stdout",
          "text": [
            "[ 3  7 11] is the result of Addition of two array: \n"
          ]
        }
      ]
    },
    {
      "cell_type": "code",
      "source": [
        "sub = tf.subtract(array1,array2)\n",
        "print(f\"{sub} is the result of Subtraction\")"
      ],
      "metadata": {
        "colab": {
          "base_uri": "https://localhost:8080/"
        },
        "id": "8b7P0yR3K1MT",
        "outputId": "019a14ec-10c5-4e83-cf04-8b29735e480b"
      },
      "execution_count": 3,
      "outputs": [
        {
          "output_type": "stream",
          "name": "stdout",
          "text": [
            "[1 1 1] is the result of Subtraction\n"
          ]
        }
      ]
    },
    {
      "cell_type": "code",
      "source": [
        "mul = tf.multiply(array1,array2)\n",
        "print(f\"{mul} is the result of Multiplication\")"
      ],
      "metadata": {
        "colab": {
          "base_uri": "https://localhost:8080/"
        },
        "id": "cK6g1r3ULaT3",
        "outputId": "bdf3a2f9-73ca-4bd6-eb1a-949260225720"
      },
      "execution_count": 4,
      "outputs": [
        {
          "output_type": "stream",
          "name": "stdout",
          "text": [
            "[ 2 12 30] is the result of Multiplication\n"
          ]
        }
      ]
    },
    {
      "cell_type": "code",
      "source": [
        "matrix1 = tf.constant([[2,3],[3,5]])\n",
        "matrix2 = tf.constant([[2,3],[3,4]])\n",
        "matrix_mul= tf.matmul(matrix1,matrix2)\n",
        "print(f\"{matrix_mul} is the result of Multiplication\")"
      ],
      "metadata": {
        "colab": {
          "base_uri": "https://localhost:8080/"
        },
        "id": "z18UwIXeMFwB",
        "outputId": "aed72648-e1b5-4205-a410-5ddf1986a0b5"
      },
      "execution_count": 5,
      "outputs": [
        {
          "output_type": "stream",
          "name": "stdout",
          "text": [
            "[[13 18]\n",
            " [21 29]] is the result of Multiplication\n"
          ]
        }
      ]
    },
    {
      "cell_type": "code",
      "source": [
        "import torch"
      ],
      "metadata": {
        "id": "z8Q3qE7TO_4V"
      },
      "execution_count": 6,
      "outputs": []
    },
    {
      "cell_type": "markdown",
      "source": [
        "# Tensor Data Structure is use for torch"
      ],
      "metadata": {
        "id": "AR0PBq6bW351"
      }
    },
    {
      "cell_type": "code",
      "source": [
        "array1 = torch.tensor([1,3,5])\n",
        "array2 = torch.tensor([2,4,6])\n",
        "result = torch.add(array1,array2)\n",
        "print(f\"{result} is addition result\")"
      ],
      "metadata": {
        "colab": {
          "base_uri": "https://localhost:8080/"
        },
        "id": "phgx6FT8PVA-",
        "outputId": "e1671e54-413f-4101-d0c7-d6dcb2a0fd83"
      },
      "execution_count": 7,
      "outputs": [
        {
          "output_type": "stream",
          "name": "stdout",
          "text": [
            "tensor([ 3,  7, 11]) is addition result\n"
          ]
        }
      ]
    },
    {
      "cell_type": "code",
      "source": [
        "array1 = torch.tensor([1,3,5])\n",
        "array2 = torch.tensor([2,4,6])\n",
        "result = torch.sub(array1,array2)\n",
        "print(f\"{result} is addition result\")"
      ],
      "metadata": {
        "colab": {
          "base_uri": "https://localhost:8080/"
        },
        "id": "vTPa4b49PyoJ",
        "outputId": "c175dd9e-d346-449a-e5b9-3b831f9b6b2f"
      },
      "execution_count": 8,
      "outputs": [
        {
          "output_type": "stream",
          "name": "stdout",
          "text": [
            "tensor([-1, -1, -1]) is addition result\n"
          ]
        }
      ]
    },
    {
      "cell_type": "code",
      "source": [
        "array1 = torch.tensor([1,3,5])\n",
        "array2 = torch.tensor([2,4,6])\n",
        "result = torch.mul(array1,array2)\n",
        "print(f\"{result} is addition result\")"
      ],
      "metadata": {
        "colab": {
          "base_uri": "https://localhost:8080/"
        },
        "id": "MUkOoN6rRMBn",
        "outputId": "c3d8d86b-d52e-4880-c96c-b5db18ff253c"
      },
      "execution_count": 9,
      "outputs": [
        {
          "output_type": "stream",
          "name": "stdout",
          "text": [
            "tensor([ 2, 12, 30]) is addition result\n"
          ]
        }
      ]
    },
    {
      "cell_type": "code",
      "source": [
        "m1 = torch.tensor([[1,3],[2,4]])\n",
        "m2 = torch.tensor([[2,4],[1,4]])\n",
        "result = torch.matmul(m1,m2)\n",
        "print(f\"{result} is addition result\")"
      ],
      "metadata": {
        "colab": {
          "base_uri": "https://localhost:8080/"
        },
        "id": "yEmERgljROz2",
        "outputId": "6678f55f-1ab8-444e-9538-48814e527bb5"
      },
      "execution_count": 10,
      "outputs": [
        {
          "output_type": "stream",
          "name": "stdout",
          "text": [
            "tensor([[ 5, 16],\n",
            "        [ 8, 24]]) is addition result\n"
          ]
        }
      ]
    },
    {
      "cell_type": "code",
      "source": [],
      "metadata": {
        "id": "pqBkWvvXR6aN"
      },
      "execution_count": 10,
      "outputs": []
    }
  ]
}